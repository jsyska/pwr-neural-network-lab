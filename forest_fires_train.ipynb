{
 "cells": [
  {
   "cell_type": "markdown",
   "source": [
    "# Forest Fires Regression with Neural Networks"
   ],
   "metadata": {
    "collapsed": false
   },
   "id": "be709f9f6360ade7"
  },
  {
   "cell_type": "markdown",
   "source": [
    "## Setup\n",
    "### Import all necessary libraries and define constants"
   ],
   "metadata": {
    "collapsed": false
   },
   "id": "28a81561442d4ef3"
  },
  {
   "cell_type": "code",
   "execution_count": 1,
   "outputs": [],
   "source": [
    "import numpy as np\n",
    "import matplotlib.pyplot as plt\n",
    "from dataset import MyDataClass\n",
    "from models import Layer_Dense, Activation_ReLU, Activation_Linear, Loss_MeanSquaredError, Accuracy_Regression, Optimizer_Adam, Model\n",
    "from preprocess import preprocess_forest_fires\n"
   ],
   "metadata": {
    "collapsed": false,
    "ExecuteTime": {
     "end_time": "2023-11-19T14:23:16.370859600Z",
     "start_time": "2023-11-19T14:23:16.226817900Z"
    }
   },
   "id": "470cdf12d212a39b"
  },
  {
   "cell_type": "markdown",
   "source": [
    "## Data Preprocessing\n",
    "### Load and preprocess the forest fires data. This section should end with the dataset ready for training."
   ],
   "metadata": {
    "collapsed": false
   },
   "id": "cea3277ab9830609"
  },
  {
   "cell_type": "code",
   "execution_count": 2,
   "outputs": [],
   "source": [
    "preprocess_forest_fires()"
   ],
   "metadata": {
    "collapsed": false,
    "ExecuteTime": {
     "end_time": "2023-11-19T14:23:16.395779600Z",
     "start_time": "2023-11-19T14:23:16.371652500Z"
    }
   },
   "id": "66f46ee0a04b7daa"
  },
  {
   "cell_type": "code",
   "execution_count": 3,
   "outputs": [],
   "source": [
    "data = MyDataClass()"
   ],
   "metadata": {
    "collapsed": false,
    "ExecuteTime": {
     "end_time": "2023-11-19T14:23:16.402678300Z",
     "start_time": "2023-11-19T14:23:16.401157900Z"
    }
   },
   "id": "ff21a2e5eb0f8ac8"
  },
  {
   "cell_type": "markdown",
   "source": [
    "# Load and preprocess the forest fires data"
   ],
   "metadata": {
    "collapsed": false
   },
   "id": "8e93930844046176"
  },
  {
   "cell_type": "code",
   "execution_count": 4,
   "outputs": [],
   "source": [
    "data.load_and_preprocess_forest_fires()"
   ],
   "metadata": {
    "collapsed": false,
    "ExecuteTime": {
     "end_time": "2023-11-19T14:23:16.440120Z",
     "start_time": "2023-11-19T14:23:16.407097900Z"
    }
   },
   "id": "98c85be228690107"
  },
  {
   "cell_type": "markdown",
   "source": [
    "## Model Building\n",
    "### Define and compile the neural network model for regression."
   ],
   "metadata": {
    "collapsed": false
   },
   "id": "b636d6b7065cb465"
  },
  {
   "cell_type": "code",
   "execution_count": 5,
   "outputs": [],
   "source": [
    "model = Model()\n",
    "\n",
    "model.add(Layer_Dense(12, 6))  \n",
    "model.add(Activation_ReLU())\n",
    "model.add(Layer_Dense(6, 6)) \n",
    "model.add(Activation_ReLU())\n",
    "model.add(Layer_Dense(6, 1)) \n",
    "model.add(Activation_Linear())\n",
    "\n",
    "model.set(\n",
    "    loss=Loss_MeanSquaredError(),\n",
    "    optimizer=Optimizer_Adam(learning_rate=1e-3, decay=1e-5),\n",
    "    accuracy=Accuracy_Regression()\n",
    ")\n",
    "\n",
    "model.finalize()"
   ],
   "metadata": {
    "collapsed": false,
    "ExecuteTime": {
     "end_time": "2023-11-19T14:23:16.440120Z",
     "start_time": "2023-11-19T14:23:16.437686600Z"
    }
   },
   "id": "5c224431977cdada"
  },
  {
   "cell_type": "markdown",
   "source": [
    "## Training\n",
    "### Train the model with the forest fires dataset."
   ],
   "metadata": {
    "collapsed": false
   },
   "id": "67effde643462f83"
  },
  {
   "cell_type": "code",
   "execution_count": 6,
   "outputs": [
    {
     "ename": "ZeroDivisionError",
     "evalue": "division by zero",
     "output_type": "error",
     "traceback": [
      "\u001B[1;31m---------------------------------------------------------------------------\u001B[0m",
      "\u001B[1;31mZeroDivisionError\u001B[0m                         Traceback (most recent call last)",
      "Cell \u001B[1;32mIn[6], line 1\u001B[0m\n\u001B[1;32m----> 1\u001B[0m \u001B[43mmodel\u001B[49m\u001B[38;5;241;43m.\u001B[39;49m\u001B[43mtrain\u001B[49m\u001B[43m(\u001B[49m\u001B[43mdata\u001B[49m\u001B[38;5;241;43m.\u001B[39;49m\u001B[43mX_train\u001B[49m\u001B[43m,\u001B[49m\u001B[43m \u001B[49m\u001B[43mdata\u001B[49m\u001B[38;5;241;43m.\u001B[39;49m\u001B[43my_train\u001B[49m\u001B[43m,\u001B[49m\u001B[43m \u001B[49m\u001B[43mvalidation_data\u001B[49m\u001B[38;5;241;43m=\u001B[39;49m\u001B[43m(\u001B[49m\u001B[43mdata\u001B[49m\u001B[38;5;241;43m.\u001B[39;49m\u001B[43mX_test\u001B[49m\u001B[43m,\u001B[49m\u001B[43m \u001B[49m\u001B[43mdata\u001B[49m\u001B[38;5;241;43m.\u001B[39;49m\u001B[43my_test\u001B[49m\u001B[43m)\u001B[49m\u001B[43m,\u001B[49m\u001B[43m \u001B[49m\u001B[43mepochs\u001B[49m\u001B[38;5;241;43m=\u001B[39;49m\u001B[38;5;241;43m25\u001B[39;49m\u001B[43m,\u001B[49m\u001B[43m \u001B[49m\u001B[43mbatch_size\u001B[49m\u001B[38;5;241;43m=\u001B[39;49m\u001B[38;5;241;43m4\u001B[39;49m\u001B[43m,\u001B[49m\u001B[43m \u001B[49m\u001B[43mprint_every\u001B[49m\u001B[38;5;241;43m=\u001B[39;49m\u001B[38;5;241;43m1\u001B[39;49m\u001B[43m)\u001B[49m\n",
      "File \u001B[1;32m~\\PycharmProjects\\NeuralNetworksLab1\\models\\model.py:102\u001B[0m, in \u001B[0;36mModel.train\u001B[1;34m(self, X, y, epochs, batch_size, print_every, validation_data)\u001B[0m\n\u001B[0;32m     99\u001B[0m         \u001B[38;5;28mself\u001B[39m\u001B[38;5;241m.\u001B[39moptimizer\u001B[38;5;241m.\u001B[39mupdate_params(layer)\n\u001B[0;32m    100\u001B[0m     \u001B[38;5;28mself\u001B[39m\u001B[38;5;241m.\u001B[39moptimizer\u001B[38;5;241m.\u001B[39mpost_update_params()\n\u001B[1;32m--> 102\u001B[0m epoch_data_loss, epoch_regularization_loss \u001B[38;5;241m=\u001B[39m \u001B[38;5;28;43mself\u001B[39;49m\u001B[38;5;241;43m.\u001B[39;49m\u001B[43mloss\u001B[49m\u001B[38;5;241;43m.\u001B[39;49m\u001B[43mcalculate_accumulated\u001B[49m\u001B[43m(\u001B[49m\u001B[43minclude_regularization\u001B[49m\u001B[38;5;241;43m=\u001B[39;49m\u001B[38;5;28;43;01mTrue\u001B[39;49;00m\u001B[43m)\u001B[49m\n\u001B[0;32m    103\u001B[0m epoch_loss \u001B[38;5;241m=\u001B[39m epoch_data_loss \u001B[38;5;241m+\u001B[39m epoch_regularization_loss\n\u001B[0;32m    104\u001B[0m epoch_accuracy \u001B[38;5;241m=\u001B[39m \u001B[38;5;28mself\u001B[39m\u001B[38;5;241m.\u001B[39maccuracy\u001B[38;5;241m.\u001B[39mcalculate_accumulated()\n",
      "File \u001B[1;32m~\\PycharmProjects\\NeuralNetworksLab1\\models\\loss.py:31\u001B[0m, in \u001B[0;36mLoss.calculate_accumulated\u001B[1;34m(self, include_regularization)\u001B[0m\n\u001B[0;32m     30\u001B[0m \u001B[38;5;28;01mdef\u001B[39;00m \u001B[38;5;21mcalculate_accumulated\u001B[39m(\u001B[38;5;28mself\u001B[39m, \u001B[38;5;241m*\u001B[39m, include_regularization\u001B[38;5;241m=\u001B[39m\u001B[38;5;28;01mFalse\u001B[39;00m):\n\u001B[1;32m---> 31\u001B[0m     data_loss \u001B[38;5;241m=\u001B[39m \u001B[38;5;28;43mself\u001B[39;49m\u001B[38;5;241;43m.\u001B[39;49m\u001B[43maccumulated_sum\u001B[49m\u001B[43m \u001B[49m\u001B[38;5;241;43m/\u001B[39;49m\u001B[43m \u001B[49m\u001B[38;5;28;43mself\u001B[39;49m\u001B[38;5;241;43m.\u001B[39;49m\u001B[43maccumulated_count\u001B[49m\n\u001B[0;32m     32\u001B[0m     \u001B[38;5;28;01mif\u001B[39;00m \u001B[38;5;129;01mnot\u001B[39;00m include_regularization:\n\u001B[0;32m     33\u001B[0m         \u001B[38;5;28;01mreturn\u001B[39;00m data_loss\n",
      "\u001B[1;31mZeroDivisionError\u001B[0m: division by zero"
     ]
    }
   ],
   "source": [
    "model.train(data.X_train, data.y_train, validation_data=(data.X_test, data.y_test), epochs=25, batch_size=4, print_every=1)\n"
   ],
   "metadata": {
    "collapsed": false,
    "ExecuteTime": {
     "end_time": "2023-11-19T14:23:16.998547200Z",
     "start_time": "2023-11-19T14:23:16.440120Z"
    }
   },
   "id": "cf64e9a10f1661f6"
  },
  {
   "cell_type": "markdown",
   "source": [
    "## Learning Curves\n",
    "### Plot the learning curves to evaluate the training process.\n"
   ],
   "metadata": {
    "collapsed": false
   },
   "id": "3bdaaba29786174b"
  },
  {
   "cell_type": "code",
   "execution_count": null,
   "outputs": [],
   "source": [
    "def plot_learning_curves(model):\n",
    "    plt.figure(figsize=(12, 5))\n",
    "\n",
    "    plt.subplot(1, 2, 1)\n",
    "    plt.plot(model.train_acc_history, label='Training Accuracy')\n",
    "    plt.title('Accuracy over epochs')\n",
    "    plt.xlabel('Epochs')\n",
    "    plt.ylabel('Accuracy')\n",
    "    plt.legend()\n",
    "\n",
    "    plt.subplot(1, 2, 2)\n",
    "    plt.plot(model.train_loss_history, label='Training Loss')\n",
    "    plt.title('Loss over epochs')\n",
    "    plt.xlabel('Epochs')\n",
    "    plt.ylabel('Loss')\n",
    "    plt.legend()\n",
    "\n",
    "    plt.show()\n",
    "\n",
    "plot_learning_curves(model)"
   ],
   "metadata": {
    "collapsed": false,
    "ExecuteTime": {
     "end_time": "2023-11-19T14:23:17.007235900Z",
     "start_time": "2023-11-19T14:23:17.003536800Z"
    }
   },
   "id": "9d3f52b0446e295b"
  },
  {
   "cell_type": "code",
   "execution_count": null,
   "outputs": [],
   "source": [
    "example_indices = np.random.choice(range(len(data.X_test)), 10)\n",
    "examples = data.X_test[example_indices]\n",
    "\n",
    "activations = model.get_activations(examples)\n"
   ],
   "metadata": {
    "collapsed": false,
    "ExecuteTime": {
     "start_time": "2023-11-19T14:23:17.005531100Z"
    }
   },
   "id": "853f2e5f3493a5c6"
  },
  {
   "cell_type": "code",
   "execution_count": null,
   "outputs": [],
   "source": [
    "import seaborn as sns\n",
    "\n",
    "for i, activation in enumerate(activations):\n",
    "    plt.figure(figsize=(10, 1))\n",
    "    sns.heatmap(activation, cmap=\"viridis\", yticklabels=False)\n",
    "    plt.title(f\"Layer {i+1} Activation\")\n",
    "    plt.show()"
   ],
   "metadata": {
    "collapsed": false,
    "ExecuteTime": {
     "start_time": "2023-11-19T14:23:17.007235900Z"
    }
   },
   "id": "eb4a368d17b59067"
  },
  {
   "cell_type": "code",
   "execution_count": null,
   "outputs": [],
   "source": [
    "import matplotlib.pyplot as plt\n",
    "import seaborn as sns\n",
    "\n",
    "weights = model.get_weights()\n",
    "biases = model.get_biases()\n",
    "\n",
    "num_layers = len(weights)\n",
    "\n",
    "fig, axes = plt.subplots(num_layers, 2, figsize=(12, num_layers * 4))\n",
    "\n",
    "for i in range(num_layers):\n",
    "    ax = axes[i, 0]\n",
    "    sns.heatmap(weights[i], ax=ax, cmap=\"viridis\")\n",
    "    ax.set_title(f'Layer {i+1} Weights')\n",
    "\n",
    "    ax = axes[i, 1]\n",
    "    sns.heatmap(biases[i].reshape(1, -1), ax=ax, cmap=\"viridis\")\n",
    "    ax.set_title(f'Layer {i+1} Biases')\n",
    "\n",
    "plt.tight_layout()\n",
    "plt.show()"
   ],
   "metadata": {
    "collapsed": false,
    "ExecuteTime": {
     "start_time": "2023-11-19T14:23:17.007235900Z"
    }
   },
   "id": "f1930af724d4a9cb"
  },
  {
   "cell_type": "markdown",
   "source": [
    "## Hyperparameter search using grid search"
   ],
   "metadata": {
    "collapsed": false
   },
   "id": "a27b6e03f2555d3e"
  },
  {
   "cell_type": "code",
   "execution_count": null,
   "outputs": [],
   "source": [
    "learning_rates = [1e-2, 1e-3, 1e-4]\n",
    "batch_sizes = [4, 8, 16]\n",
    "epochs_options = [10, 20, 30]\n",
    "\n",
    "best_hyperparams = None\n",
    "best_loss = float('inf')\n",
    "\n",
    "for learning_rate in learning_rates:\n",
    "    for batch_size in batch_sizes:\n",
    "        for epochs in epochs_options:\n",
    "            \n",
    "            model = Model()\n",
    "\n",
    "            model.add(Layer_Dense(12, 6))  \n",
    "            model.add(Activation_ReLU())\n",
    "            model.add(Layer_Dense(6, 6)) \n",
    "            model.add(Activation_ReLU())\n",
    "            model.add(Layer_Dense(6, 1)) \n",
    "            model.add(Activation_Linear())\n",
    "            \n",
    "            model.set(\n",
    "                loss=Loss_MeanSquaredError(),\n",
    "                optimizer=Optimizer_Adam(learning_rate=1e-3, decay=1e-5),\n",
    "                accuracy=Accuracy_Regression()\n",
    "            )\n",
    "            \n",
    "            model.finalize()\n",
    "\n",
    "            model.train(data.X_train, data.y_train, validation_data=(data.X_test, data.y_test), epochs=epochs, batch_size=batch_size)\n",
    "\n",
    "            validation_loss, validation_accuracy = model.evaluate(data.X_test, data.y_test)\n",
    "\n",
    "            if validation_loss < best_loss:\n",
    "                best_loss = validation_loss\n",
    "                best_hyperparams = {'learning_rate': learning_rate, 'batch_size': batch_size, 'epochs': epochs}\n",
    "\n",
    "print(\"Best Hyperparameters:\")\n",
    "print(best_hyperparams)"
   ],
   "metadata": {
    "collapsed": false,
    "ExecuteTime": {
     "start_time": "2023-11-19T14:23:17.007235900Z"
    }
   },
   "id": "68c1da9a7aa298b2"
  },
  {
   "cell_type": "markdown",
   "source": [
    "## Measuring impact of neural network dimensionality"
   ],
   "metadata": {
    "collapsed": false
   },
   "id": "ca0754e054a13357"
  },
  {
   "cell_type": "code",
   "execution_count": null,
   "outputs": [],
   "source": [
    "learning_rate = 0.001\n",
    "batch_size = 4\n",
    "epochs = 30\n",
    "\n",
    "layer_options = [2, 3, 4]\n",
    "layer_results = []\n",
    "\n",
    "for num_layers in layer_options:\n",
    "    model = Model()\n",
    "\n",
    "    model.add(Layer_Dense(12, 6))  \n",
    "    model.add(Activation_ReLU())\n",
    "\n",
    "    for _ in range(num_layers - 1):\n",
    "        model.add(Layer_Dense(6, 6)) \n",
    "        model.add(Activation_ReLU())\n",
    "\n",
    "    model.add(Layer_Dense(6, 1)) \n",
    "    model.add(Activation_Linear())\n",
    "            \n",
    "    model.set(\n",
    "        loss=Loss_MeanSquaredError(),\n",
    "        optimizer=Optimizer_Adam(learning_rate=1e-3, decay=1e-5),\n",
    "        accuracy=Accuracy_Regression()\n",
    "    )\n",
    "    model.finalize()\n",
    "\n",
    "    model.train(data.X_train, data.y_train, validation_data=(data.X_test, data.y_test), epochs=epochs, batch_size=batch_size)\n",
    "\n",
    "    validation_loss, validation_accuracy = model.evaluate(data.X_test, data.y_test)\n",
    "\n",
    "    layer_results.append({\n",
    "        'num_layers': num_layers,\n",
    "        'loss': validation_loss,\n",
    "        'accuracy': validation_accuracy\n",
    "    })"
   ],
   "metadata": {
    "collapsed": false,
    "ExecuteTime": {
     "end_time": "2023-11-19T14:23:17.007235900Z",
     "start_time": "2023-11-19T14:23:17.007235900Z"
    }
   },
   "id": "8929e11657f8058a"
  },
  {
   "cell_type": "code",
   "execution_count": null,
   "outputs": [],
   "source": [
    "num_layers_list = [result['num_layers'] for result in layer_results]\n",
    "losses = [result['loss'] for result in layer_results]\n",
    "accuracies = [result['accuracy'] for result in layer_results]\n",
    "\n",
    "# Plotting Loss vs. Number of Layers\n",
    "plt.figure(figsize=(12, 6))\n",
    "\n",
    "plt.subplot(1, 2, 1)\n",
    "plt.plot(num_layers_list, losses, marker='o')\n",
    "plt.title('Validation Loss vs. Number of Layers')\n",
    "plt.xlabel('Number of Layers')\n",
    "plt.ylabel('Loss')\n",
    "plt.grid(True)\n",
    "\n",
    "# Plotting Accuracy vs. Number of Layers\n",
    "plt.subplot(1, 2, 2)\n",
    "plt.plot(num_layers_list, accuracies, marker='o')\n",
    "plt.title('Validation Accuracy vs. Number of Layers')\n",
    "plt.xlabel('Number of Layers')\n",
    "plt.ylabel('Accuracy')\n",
    "plt.grid(True)\n",
    "\n",
    "plt.tight_layout()\n",
    "plt.show()"
   ],
   "metadata": {
    "collapsed": false,
    "ExecuteTime": {
     "start_time": "2023-11-19T14:23:17.007235900Z"
    }
   },
   "id": "d05cdb4801a7bc5c"
  },
  {
   "cell_type": "code",
   "execution_count": null,
   "outputs": [],
   "source": [],
   "metadata": {
    "collapsed": false,
    "ExecuteTime": {
     "start_time": "2023-11-19T14:23:17.018273300Z"
    }
   },
   "id": "8a58f0b805b0dc5"
  }
 ],
 "metadata": {
  "kernelspec": {
   "display_name": "Python 3",
   "language": "python",
   "name": "python3"
  },
  "language_info": {
   "codemirror_mode": {
    "name": "ipython",
    "version": 2
   },
   "file_extension": ".py",
   "mimetype": "text/x-python",
   "name": "python",
   "nbconvert_exporter": "python",
   "pygments_lexer": "ipython2",
   "version": "2.7.6"
  }
 },
 "nbformat": 4,
 "nbformat_minor": 5
}

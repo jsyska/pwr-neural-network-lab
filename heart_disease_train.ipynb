{
 "cells": [
  {
   "cell_type": "markdown",
   "source": [
    "# Heart Disease Classification with Neural Networks"
   ],
   "metadata": {
    "collapsed": false
   },
   "id": "a98a763f67d66512"
  },
  {
   "cell_type": "markdown",
   "source": [
    "## Setup\n",
    "### Import all necessary libraries and define constants."
   ],
   "metadata": {
    "collapsed": false
   },
   "id": "a5612e4b6ce84562"
  },
  {
   "cell_type": "code",
   "execution_count": 1,
   "outputs": [],
   "source": [
    "import numpy as np\n",
    "from dataset import MyDataClass\n",
    "from preprocess import preprocess_heart_disease_from_csv\n",
    "from models import Layer_Dense, Activation_ReLU, Activation_Softmax, Loss_CategoricalCrossentropy, Accuracy_Categorical, Optimizer_Adam, Model"
   ],
   "metadata": {
    "collapsed": false,
    "ExecuteTime": {
     "end_time": "2023-11-19T14:20:30.006370600Z",
     "start_time": "2023-11-19T14:20:29.854827Z"
    }
   },
   "id": "fcedaa25cc4e7633"
  },
  {
   "cell_type": "markdown",
   "source": [
    "## Data Preprocessing\n",
    "### Load and preprocess the data. This section should end with the dataset ready for training."
   ],
   "metadata": {
    "collapsed": false
   },
   "id": "abc540a419de980d"
  },
  {
   "cell_type": "code",
   "execution_count": 2,
   "outputs": [],
   "source": [
    "preprocess_heart_disease_from_csv()"
   ],
   "metadata": {
    "collapsed": false,
    "ExecuteTime": {
     "end_time": "2023-11-19T14:20:30.030552300Z",
     "start_time": "2023-11-19T14:20:30.006370600Z"
    }
   },
   "id": "f2913d3408ecb035"
  },
  {
   "cell_type": "code",
   "execution_count": 3,
   "outputs": [],
   "source": [
    "data = MyDataClass()\n",
    "data.load_and_preprocess_heart_disease()\n"
   ],
   "metadata": {
    "collapsed": false,
    "ExecuteTime": {
     "end_time": "2023-11-19T14:20:30.067782100Z",
     "start_time": "2023-11-19T14:20:30.030552300Z"
    }
   },
   "id": "30c555d09277f4d3"
  },
  {
   "cell_type": "code",
   "execution_count": 4,
   "outputs": [],
   "source": [
    "model = Model()\n",
    "\n",
    "model.add(Layer_Dense(data.X_train.shape[1], 6))\n",
    "model.add(Activation_ReLU())\n",
    "model.add(Layer_Dense(6, 6, weight_regularizer_l2=5e-3, bias_regularizer_l2=5e-3))\n",
    "model.add(Activation_ReLU())\n",
    "model.add(Layer_Dense(6, 5))\n",
    "model.add(Activation_Softmax())\n",
    "model.set(\n",
    "    loss=Loss_CategoricalCrossentropy(),\n",
    "    optimizer=Optimizer_Adam(learning_rate=1e-4, decay=5e-7),\n",
    "    accuracy=Accuracy_Categorical()\n",
    ")\n",
    "\n",
    "model.finalize()\n",
    "\n"
   ],
   "metadata": {
    "collapsed": false,
    "ExecuteTime": {
     "end_time": "2023-11-19T14:20:30.076547500Z",
     "start_time": "2023-11-19T14:20:30.073500200Z"
    }
   },
   "id": "c7ae429932b4dbeb"
  },
  {
   "cell_type": "code",
   "execution_count": 5,
   "outputs": [
    {
     "ename": "ZeroDivisionError",
     "evalue": "division by zero",
     "output_type": "error",
     "traceback": [
      "\u001B[1;31m---------------------------------------------------------------------------\u001B[0m",
      "\u001B[1;31mZeroDivisionError\u001B[0m                         Traceback (most recent call last)",
      "Cell \u001B[1;32mIn[5], line 1\u001B[0m\n\u001B[1;32m----> 1\u001B[0m \u001B[43mmodel\u001B[49m\u001B[38;5;241;43m.\u001B[39;49m\u001B[43mtrain\u001B[49m\u001B[43m(\u001B[49m\u001B[43mdata\u001B[49m\u001B[38;5;241;43m.\u001B[39;49m\u001B[43mX_train\u001B[49m\u001B[43m,\u001B[49m\u001B[43m \u001B[49m\u001B[43mdata\u001B[49m\u001B[38;5;241;43m.\u001B[39;49m\u001B[43my_train\u001B[49m\u001B[43m,\u001B[49m\u001B[43m \u001B[49m\u001B[43mvalidation_data\u001B[49m\u001B[38;5;241;43m=\u001B[39;49m\u001B[43m(\u001B[49m\u001B[43mdata\u001B[49m\u001B[38;5;241;43m.\u001B[39;49m\u001B[43mX_test\u001B[49m\u001B[43m,\u001B[49m\u001B[43m \u001B[49m\u001B[43mdata\u001B[49m\u001B[38;5;241;43m.\u001B[39;49m\u001B[43my_test\u001B[49m\u001B[43m)\u001B[49m\u001B[43m,\u001B[49m\u001B[43m \u001B[49m\u001B[43mepochs\u001B[49m\u001B[38;5;241;43m=\u001B[39;49m\u001B[38;5;241;43m2000\u001B[39;49m\u001B[43m,\u001B[49m\u001B[43m \u001B[49m\u001B[43mbatch_size\u001B[49m\u001B[38;5;241;43m=\u001B[39;49m\u001B[38;5;241;43m16\u001B[39;49m\u001B[43m,\u001B[49m\u001B[43m \u001B[49m\u001B[43mprint_every\u001B[49m\u001B[38;5;241;43m=\u001B[39;49m\u001B[38;5;241;43m100\u001B[39;49m\u001B[43m)\u001B[49m\n",
      "File \u001B[1;32m~\\PycharmProjects\\NeuralNetworksLab1\\models\\model.py:102\u001B[0m, in \u001B[0;36mModel.train\u001B[1;34m(self, X, y, epochs, batch_size, print_every, validation_data)\u001B[0m\n\u001B[0;32m     99\u001B[0m         \u001B[38;5;28mself\u001B[39m\u001B[38;5;241m.\u001B[39moptimizer\u001B[38;5;241m.\u001B[39mupdate_params(layer)\n\u001B[0;32m    100\u001B[0m     \u001B[38;5;28mself\u001B[39m\u001B[38;5;241m.\u001B[39moptimizer\u001B[38;5;241m.\u001B[39mpost_update_params()\n\u001B[1;32m--> 102\u001B[0m epoch_data_loss, epoch_regularization_loss \u001B[38;5;241m=\u001B[39m \u001B[38;5;28;43mself\u001B[39;49m\u001B[38;5;241;43m.\u001B[39;49m\u001B[43mloss\u001B[49m\u001B[38;5;241;43m.\u001B[39;49m\u001B[43mcalculate_accumulated\u001B[49m\u001B[43m(\u001B[49m\u001B[43minclude_regularization\u001B[49m\u001B[38;5;241;43m=\u001B[39;49m\u001B[38;5;28;43;01mTrue\u001B[39;49;00m\u001B[43m)\u001B[49m\n\u001B[0;32m    103\u001B[0m epoch_loss \u001B[38;5;241m=\u001B[39m epoch_data_loss \u001B[38;5;241m+\u001B[39m epoch_regularization_loss\n\u001B[0;32m    104\u001B[0m epoch_accuracy \u001B[38;5;241m=\u001B[39m \u001B[38;5;28mself\u001B[39m\u001B[38;5;241m.\u001B[39maccuracy\u001B[38;5;241m.\u001B[39mcalculate_accumulated()\n",
      "File \u001B[1;32m~\\PycharmProjects\\NeuralNetworksLab1\\models\\loss.py:31\u001B[0m, in \u001B[0;36mLoss.calculate_accumulated\u001B[1;34m(self, include_regularization)\u001B[0m\n\u001B[0;32m     30\u001B[0m \u001B[38;5;28;01mdef\u001B[39;00m \u001B[38;5;21mcalculate_accumulated\u001B[39m(\u001B[38;5;28mself\u001B[39m, \u001B[38;5;241m*\u001B[39m, include_regularization\u001B[38;5;241m=\u001B[39m\u001B[38;5;28;01mFalse\u001B[39;00m):\n\u001B[1;32m---> 31\u001B[0m     data_loss \u001B[38;5;241m=\u001B[39m \u001B[38;5;28;43mself\u001B[39;49m\u001B[38;5;241;43m.\u001B[39;49m\u001B[43maccumulated_sum\u001B[49m\u001B[43m \u001B[49m\u001B[38;5;241;43m/\u001B[39;49m\u001B[43m \u001B[49m\u001B[38;5;28;43mself\u001B[39;49m\u001B[38;5;241;43m.\u001B[39;49m\u001B[43maccumulated_count\u001B[49m\n\u001B[0;32m     32\u001B[0m     \u001B[38;5;28;01mif\u001B[39;00m \u001B[38;5;129;01mnot\u001B[39;00m include_regularization:\n\u001B[0;32m     33\u001B[0m         \u001B[38;5;28;01mreturn\u001B[39;00m data_loss\n",
      "\u001B[1;31mZeroDivisionError\u001B[0m: division by zero"
     ]
    }
   ],
   "source": [
    "model.train(data.X_train, data.y_train, validation_data=(data.X_test, data.y_test), epochs=2000, batch_size=16, print_every=100)"
   ],
   "metadata": {
    "collapsed": false,
    "ExecuteTime": {
     "end_time": "2023-11-19T14:20:30.673406700Z",
     "start_time": "2023-11-19T14:20:30.076547500Z"
    }
   },
   "id": "283d849854ddd814"
  },
  {
   "cell_type": "code",
   "execution_count": null,
   "outputs": [],
   "source": [
    "import matplotlib.pyplot as plt\n",
    "\n",
    "def plot_learning_curves(model):\n",
    "    plt.figure(figsize=(12, 5))\n",
    "\n",
    "    plt.subplot(1, 2, 1)\n",
    "    plt.plot(model.train_acc_history, label='Training Accuracy')\n",
    "    plt.title('Accuracy over epochs')\n",
    "    plt.xlabel('Epochs')\n",
    "    plt.ylabel('Accuracy')\n",
    "    plt.legend()\n",
    "\n",
    "    plt.subplot(1, 2, 2)\n",
    "    plt.plot(model.train_loss_history, label='Training Loss')\n",
    "    plt.title('Loss over epochs')\n",
    "    plt.xlabel('Epochs')\n",
    "    plt.ylabel('Loss')\n",
    "    plt.legend()\n",
    "\n",
    "    plt.show()\n",
    "\n",
    "plot_learning_curves(model)\n"
   ],
   "metadata": {
    "collapsed": false,
    "ExecuteTime": {
     "start_time": "2023-11-19T14:20:30.663957500Z"
    }
   },
   "id": "38ee419f4f5e6d90"
  },
  {
   "cell_type": "markdown",
   "source": [
    "## Classification report"
   ],
   "metadata": {
    "collapsed": false
   },
   "id": "d3a075e769c29ac6"
  },
  {
   "cell_type": "code",
   "execution_count": null,
   "outputs": [],
   "source": [
    "from sklearn.metrics import classification_report\n",
    "\n",
    "y_pred = model.predict(data.X_test)\n",
    "y_pred_classes = np.argmax(y_pred, axis=1)\n",
    "y_true = data.y_test\n",
    "\n",
    "report = classification_report(y_true, y_pred_classes, target_names=[str(i) for i in range(5)], zero_division=0)\n",
    "print(report)\n"
   ],
   "metadata": {
    "collapsed": false,
    "ExecuteTime": {
     "start_time": "2023-11-19T14:20:30.670141Z"
    }
   },
   "id": "23bc322f4937a3c6"
  },
  {
   "cell_type": "markdown",
   "source": [
    "## Latent features visualization"
   ],
   "metadata": {
    "collapsed": false
   },
   "id": "cdf7dd48d059fa98"
  },
  {
   "cell_type": "code",
   "execution_count": null,
   "outputs": [],
   "source": [
    "example_indices = np.random.choice(range(len(data.X_test)), 10)\n",
    "examples = data.X_test[example_indices]\n",
    "\n",
    "activations = model.get_activations(examples)\n"
   ],
   "metadata": {
    "collapsed": false,
    "ExecuteTime": {
     "start_time": "2023-11-19T14:20:30.674421200Z"
    }
   },
   "id": "d8f591a3c8fd5b20"
  },
  {
   "cell_type": "code",
   "execution_count": null,
   "outputs": [],
   "source": [
    "import seaborn as sns\n",
    "\n",
    "for i, activation in enumerate(activations):\n",
    "    plt.figure(figsize=(10, 1))\n",
    "    sns.heatmap(activation, cmap=\"viridis\", yticklabels=False)\n",
    "    plt.title(f\"Layer {i+1} Activation\")\n",
    "    plt.show()"
   ],
   "metadata": {
    "collapsed": false,
    "ExecuteTime": {
     "start_time": "2023-11-19T14:20:30.676763Z"
    }
   },
   "id": "74c07bbfde056a1d"
  },
  {
   "cell_type": "code",
   "execution_count": null,
   "outputs": [],
   "source": [
    "import matplotlib.pyplot as plt\n",
    "import seaborn as sns\n",
    "\n",
    "weights = model.get_weights()\n",
    "biases = model.get_biases()\n",
    "\n",
    "num_layers = len(weights)\n",
    "\n",
    "fig, axes = plt.subplots(num_layers, 2, figsize=(12, num_layers * 4))\n",
    "\n",
    "for i in range(num_layers):\n",
    "    ax = axes[i, 0]\n",
    "    sns.heatmap(weights[i], ax=ax, cmap=\"viridis\")\n",
    "    ax.set_title(f'Layer {i+1} Weights')\n",
    "\n",
    "    ax = axes[i, 1]\n",
    "    sns.heatmap(biases[i].reshape(1, -1), ax=ax, cmap=\"viridis\")\n",
    "    ax.set_title(f'Layer {i+1} Biases')\n",
    "\n",
    "plt.tight_layout()\n",
    "plt.show()"
   ],
   "metadata": {
    "collapsed": false,
    "ExecuteTime": {
     "end_time": "2023-11-19T14:20:30.678683400Z",
     "start_time": "2023-11-19T14:20:30.678683400Z"
    }
   },
   "id": "3b48c8bbeb441ee6"
  },
  {
   "cell_type": "markdown",
   "source": [
    "## Hyperparameter search using grid search"
   ],
   "metadata": {
    "collapsed": false
   },
   "id": "56f9500236d91116"
  },
  {
   "cell_type": "code",
   "execution_count": null,
   "outputs": [],
   "source": [
    "learning_rates = [1e-3, 1e-4, 1e-5]\n",
    "batch_sizes = [8, 16, 32]\n",
    "epochs_options = [10, 100, 1000]\n",
    "regularizer_options = [1e-2, 1e-3, 1e-4]\n",
    "\n",
    "best_hyperparams = None\n",
    "best_accuracy = 0\n",
    "\n",
    "for learning_rate in learning_rates:\n",
    "    for batch_size in batch_sizes:\n",
    "        for epochs in epochs_options:\n",
    "            for regularizer in regularizer_options:\n",
    "                # Initialize and compile model\n",
    "                model = Model()\n",
    "                model.add(Layer_Dense(data.X_train.shape[1], 6))\n",
    "                model.add(Activation_ReLU())\n",
    "                model.add(Layer_Dense(6, 6, weight_regularizer_l2=regularizer, bias_regularizer_l2=regularizer))\n",
    "                model.add(Activation_ReLU())\n",
    "                model.add(Layer_Dense(6, 5))\n",
    "                model.add(Activation_Softmax())\n",
    "                model.set(\n",
    "                    loss=Loss_CategoricalCrossentropy(),\n",
    "                    optimizer=Optimizer_Adam(learning_rate=learning_rate),\n",
    "                    accuracy=Accuracy_Categorical()\n",
    "                )\n",
    "                model.finalize()\n",
    "    \n",
    "                model.train(data.X_train, data.y_train, validation_data=(data.X_test, data.y_test), epochs=epochs, batch_size=batch_size)\n",
    "    \n",
    "                validation_loss, validation_accuracy = model.evaluate(data.X_test, data.y_test)\n",
    "    \n",
    "                if validation_accuracy > best_accuracy:\n",
    "                    best_accuracy = validation_accuracy\n",
    "                    best_hyperparams = {'learning_rate': learning_rate, 'batch_size': batch_size, 'epochs': epochs, 'regularizer': regularizer}\n",
    "\n",
    "print(\"Best Hyperparameters:\")\n",
    "print(best_hyperparams)"
   ],
   "metadata": {
    "collapsed": false,
    "ExecuteTime": {
     "start_time": "2023-11-19T14:20:30.678683400Z"
    }
   },
   "id": "b212eca178f857c5"
  },
  {
   "cell_type": "markdown",
   "source": [
    "## Measuring impact of neural network dimensionality"
   ],
   "metadata": {
    "collapsed": false
   },
   "id": "e6fb5d63d933828f"
  },
  {
   "cell_type": "code",
   "execution_count": null,
   "outputs": [],
   "source": [
    "learning_rate = 0.0001\n",
    "batch_size = 32\n",
    "epochs = 1000\n",
    "regularizer = 0.0001\n",
    "\n",
    "layer_options = [1, 2, 3]\n",
    "layer_results = []\n",
    "\n",
    "for num_layers in layer_options:\n",
    "    model = Model()\n",
    "\n",
    "    model.add(Layer_Dense(data.X_train.shape[1], 6))\n",
    "    model.add(Activation_ReLU())\n",
    "\n",
    "    for _ in range(num_layers - 1):\n",
    "        model.add(Layer_Dense(6, 6, weight_regularizer_l2=regularizer, bias_regularizer_l2=regularizer))\n",
    "        model.add(Activation_ReLU())\n",
    "\n",
    "    model.add(Layer_Dense(6, 5))\n",
    "    model.add(Activation_Softmax())\n",
    "\n",
    "    model.set(\n",
    "        loss=Loss_CategoricalCrossentropy(),\n",
    "        optimizer=Optimizer_Adam(learning_rate=learning_rate),\n",
    "        accuracy=Accuracy_Categorical()\n",
    "    )\n",
    "    model.finalize()\n",
    "\n",
    "    model.train(data.X_train, data.y_train, validation_data=(data.X_test, data.y_test), epochs=epochs, batch_size=batch_size)\n",
    "\n",
    "    validation_loss, validation_accuracy = model.evaluate(data.X_test, data.y_test)\n",
    "\n",
    "    layer_results.append({\n",
    "        'num_layers': num_layers,\n",
    "        'loss': validation_loss,\n",
    "        'accuracy': validation_accuracy\n",
    "    })\n",
    "    "
   ],
   "metadata": {
    "collapsed": false,
    "ExecuteTime": {
     "start_time": "2023-11-19T14:20:30.678683400Z"
    }
   },
   "id": "f8f259776cd41d93"
  },
  {
   "cell_type": "code",
   "execution_count": null,
   "outputs": [],
   "source": [
    "num_layers_list = [result['num_layers'] for result in layer_results]\n",
    "losses = [result['loss'] for result in layer_results]\n",
    "accuracies = [result['accuracy'] for result in layer_results]\n",
    "\n",
    "plt.figure(figsize=(12, 6))\n",
    "\n",
    "plt.subplot(1, 2, 1)\n",
    "plt.plot(num_layers_list, losses, marker='o')\n",
    "plt.title('Validation Loss vs. Number of Layers')\n",
    "plt.xlabel('Number of Layers')\n",
    "plt.ylabel('Loss')\n",
    "plt.grid(True)\n",
    "\n",
    "plt.subplot(1, 2, 2)\n",
    "plt.plot(num_layers_list, accuracies, marker='o')\n",
    "plt.title('Validation Accuracy vs. Number of Layers')\n",
    "plt.xlabel('Number of Layers')\n",
    "plt.ylabel('Accuracy')\n",
    "plt.grid(True)\n",
    "\n",
    "plt.tight_layout()\n",
    "plt.show()"
   ],
   "metadata": {
    "collapsed": false,
    "ExecuteTime": {
     "start_time": "2023-11-19T14:20:30.678683400Z"
    }
   },
   "id": "a5e0fa3e1724a303"
  },
  {
   "cell_type": "code",
   "execution_count": null,
   "outputs": [],
   "source": [],
   "metadata": {
    "collapsed": false,
    "ExecuteTime": {
     "start_time": "2023-11-19T14:20:30.678683400Z"
    }
   },
   "id": "7ecfbaf83096bbf3"
  }
 ],
 "metadata": {
  "kernelspec": {
   "display_name": "Python 3",
   "language": "python",
   "name": "python3"
  },
  "language_info": {
   "codemirror_mode": {
    "name": "ipython",
    "version": 2
   },
   "file_extension": ".py",
   "mimetype": "text/x-python",
   "name": "python",
   "nbconvert_exporter": "python",
   "pygments_lexer": "ipython2",
   "version": "2.7.6"
  }
 },
 "nbformat": 4,
 "nbformat_minor": 5
}
